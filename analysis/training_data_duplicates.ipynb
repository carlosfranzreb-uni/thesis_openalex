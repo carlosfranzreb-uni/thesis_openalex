{
 "cells": [
  {
   "cell_type": "markdown",
   "metadata": {},
   "source": [
    "Analyse the documents that were retrieved from OpenAlex."
   ]
  },
  {
   "cell_type": "code",
   "execution_count": 1,
   "metadata": {},
   "outputs": [],
   "source": [
    "import json\n",
    "from os import listdir\n",
    "from collections import Counter\n",
    "from matplotlib import pyplot as plt"
   ]
  },
  {
   "cell_type": "code",
   "execution_count": 2,
   "metadata": {},
   "outputs": [],
   "source": [
    "docs_folder = '../data/openalex/docs'\n",
    "subjects_file = '../data/openalex/subjects.json'\n",
    "subjects = json.load(open(subjects_file))"
   ]
  },
  {
   "cell_type": "code",
   "execution_count": 3,
   "metadata": {},
   "outputs": [
    {
     "data": {
      "text/plain": [
       "2157"
      ]
     },
     "execution_count": 3,
     "metadata": {},
     "output_type": "execute_result"
    }
   ],
   "source": [
    "doc_cnt = {}  # map subjects to their number of docs\n",
    "for file in listdir(docs_folder):\n",
    "  docs = json.load(open(f'{docs_folder}/{file}'))\n",
    "  for subject in docs:\n",
    "    doc_cnt[subject] = len(docs[subject])\n",
    "len(doc_cnt)"
   ]
  },
  {
   "cell_type": "code",
   "execution_count": 4,
   "metadata": {},
   "outputs": [
    {
     "data": {
      "text/plain": [
       "214538"
      ]
     },
     "execution_count": 4,
     "metadata": {},
     "output_type": "execute_result"
    }
   ],
   "source": [
    "sum(doc_cnt.values())  # total no. of docs"
   ]
  },
  {
   "cell_type": "markdown",
   "metadata": {},
   "source": [
    "How many documents don't have a field assigned to them?"
   ]
  },
  {
   "cell_type": "code",
   "execution_count": 5,
   "metadata": {},
   "outputs": [
    {
     "data": {
      "text/plain": [
       "1952"
      ]
     },
     "execution_count": 5,
     "metadata": {},
     "output_type": "execute_result"
    }
   ],
   "source": [
    "no_field = 0\n",
    "for file in listdir(docs_folder):\n",
    "  docs = json.load(open(f'{docs_folder}/{file}'))\n",
    "  for group in docs.values():\n",
    "    for doc in group:\n",
    "      has_field = False\n",
    "      for subject in doc['subjects'].keys():\n",
    "        if subject in subjects:\n",
    "          if subjects[subject]['level'] == 0:\n",
    "            has_field = True\n",
    "            break\n",
    "      if not has_field:\n",
    "        no_field += 1\n",
    "no_field"
   ]
  },
  {
   "cell_type": "markdown",
   "metadata": {},
   "source": [
    "Count the occurrence of subject sets of docs that don't have fields assigned to them"
   ]
  },
  {
   "cell_type": "code",
   "execution_count": 6,
   "metadata": {},
   "outputs": [
    {
     "data": {
      "text/plain": [
       "[(\"['Humanities']\", 11),\n",
       " (\"['Croatian']\", 8),\n",
       " (\"['Form of the Good']\", 8),\n",
       " (\"['San Joaquin']\", 7),\n",
       " (\"['Table (database)']\", 6),\n",
       " (\"['Crew']\", 6),\n",
       " (\"['Analogy']\", 6),\n",
       " (\"['Variety (cybernetics)']\", 5),\n",
       " (\"['Division (mathematics)']\", 5),\n",
       " (\"['Craft']\", 5)]"
      ]
     },
     "execution_count": 6,
     "metadata": {},
     "output_type": "execute_result"
    }
   ],
   "source": [
    "nofield_cnt = Counter()\n",
    "for file in listdir(docs_folder):\n",
    "  docs = json.load(open(f'{docs_folder}/{file}'))\n",
    "  for group in docs.values():\n",
    "    for doc in group:\n",
    "      has_field = False\n",
    "      for subject in doc['subjects'].keys():\n",
    "        if subject in subjects:\n",
    "          if subjects[subject]['level'] == 0:\n",
    "            has_field = True\n",
    "            break\n",
    "      if not has_field:\n",
    "        s_names = [subjects[s]['name'] for s in subjects if s in doc['subjects'].keys()]\n",
    "        nofield_cnt[str(sorted(s_names))] += 1\n",
    "nofield_cnt.most_common(10)"
   ]
  },
  {
   "cell_type": "markdown",
   "metadata": {},
   "source": [
    "How many of the documents without assigned fields have Mechanics assigned to them?"
   ]
  },
  {
   "cell_type": "code",
   "execution_count": 7,
   "metadata": {},
   "outputs": [
    {
     "data": {
      "text/plain": [
       "122"
      ]
     },
     "execution_count": 7,
     "metadata": {},
     "output_type": "execute_result"
    }
   ],
   "source": [
    "mechanics_cnt = 0\n",
    "for assigned, cnt in nofield_cnt.items():\n",
    "  if \"'Mechanics'\" in assigned:\n",
    "    mechanics_cnt += cnt\n",
    "mechanics_cnt"
   ]
  },
  {
   "cell_type": "markdown",
   "metadata": {},
   "source": [
    "Basic stats"
   ]
  },
  {
   "cell_type": "code",
   "execution_count": 8,
   "metadata": {},
   "outputs": [
    {
     "data": {
      "text/plain": [
       "1.2338811630847029"
      ]
     },
     "execution_count": 8,
     "metadata": {},
     "output_type": "execute_result"
    }
   ],
   "source": [
    "sum(nofield_cnt.values()) / len(nofield_cnt)  # avg. no. of subjects per doc that does not have a field"
   ]
  },
  {
   "cell_type": "code",
   "execution_count": 9,
   "metadata": {},
   "outputs": [
    {
     "data": {
      "text/plain": [
       "1362"
      ]
     },
     "execution_count": 9,
     "metadata": {},
     "output_type": "execute_result"
    }
   ],
   "source": [
    "sum([v == 1 for v in nofield_cnt.values()])  # no. of subject sets that occur only once (from those of docs that are not assigned fields)"
   ]
  },
  {
   "cell_type": "code",
   "execution_count": 10,
   "metadata": {},
   "outputs": [
    {
     "data": {
      "text/plain": [
       "427"
      ]
     },
     "execution_count": 10,
     "metadata": {},
     "output_type": "execute_result"
    }
   ],
   "source": [
    "sum([',' not in k for k in nofield_cnt.keys()]) "
   ]
  },
  {
   "cell_type": "code",
   "execution_count": 11,
   "metadata": {},
   "outputs": [
    {
     "data": {
      "text/plain": [
       "1582"
      ]
     },
     "execution_count": 11,
     "metadata": {},
     "output_type": "execute_result"
    }
   ],
   "source": [
    "len(nofield_cnt)"
   ]
  },
  {
   "cell_type": "markdown",
   "metadata": {},
   "source": [
    "Are there duplicates?"
   ]
  },
  {
   "cell_type": "code",
   "execution_count": 12,
   "metadata": {},
   "outputs": [
    {
     "data": {
      "text/plain": [
       "[('[]', 122),\n",
       " (\"['meet', 'editorial', 'board', 'member']\", 16),\n",
       " (\"['appeal', 'editor-in-chief', 'abstract']\", 15),\n",
       " (\"['spin', 'crossover', 'cobalt', 'complex', 'co-based', 'complex', 'pypz', 'pyridine', 'pyrazole', 'deposit', 'investigate', 'scan', 'tunneling', 'microscopy', 'tridentate', 'coordination', 'sphere', 'molecule', 'aggregate', 'mainly', 'tetramers', 'individual', 'complex', 'tetramers', 'undergo', 'reversible', 'transition', 'state', 'characteristic', 'image', 'contrast', 'current', 'pass', 'neighbor', 'molecule', 'exhibit', 'bistability', 'molecule', 'stable', 'transition', 'rate', 'vary', 'linearly', 'tunnel', 'current', 'exhibit', 'intriguing', 'dependence', 'bias', 'voltage', 'polarity', 'interpret', 'state', 'spin', 'state', 'complex', 'image', 'contrast', 'orders-of-magnitude', 'variation', 'switching', 'yield', 'tentatively', 'understand', 'calculate', 'orbital', 'structure', 'spin', 'state', 'provide', 'insight', 'mechanism', 'electron-induced', 'excited', 'spin-state', 'trapping', 'eliesst']\",\n",
       "  3),\n",
       " (\"['pick', 'carbonate', 'kinetic', 'selectivity', 'encapsulation', 'anions', 'supramolecular', 'host', 'bind', 'inorganic', 'anion', 'fast', 'rate', 'select', 'proportion', 'thermodynamic', 'stability', 'correspond', 'anionìhost', 'complex', 'form', 'reversible', 'manner', 'study', 'describe', 'action', 'hexapodal', 'capsule', 'remarkable', 'ability', 'select', 'anion', 'base', 'large', 'span', 'rate', 'enter', 'host', 'thermodynamic', 'affinity', 'eighteen', 'anion', 'extend', 'order', 'magnitude', 'nmr', 'spectroscopy', 'capsule', 'retain', 'hour', 'presence', 'compete', 'anion', 'include', 'strong', 'binding', 'haso4', 'hpo4', 'observe', 'selection', 'result', 'possess', 'narrow', 'aperture', 'comparable', 'size', 'anion', 'slow', 'encapsulation', 'second', 'day', 'unorthodox', 'mode', 'action', 'set', 'stage', 'create', 'host', 'pick', 'anion', 'ability', 'access', 'host']\",\n",
       "  3)]"
      ]
     },
     "execution_count": 12,
     "metadata": {},
     "output_type": "execute_result"
    }
   ],
   "source": [
    "duplicate_cnt = Counter()\n",
    "for file in listdir(docs_folder):\n",
    "  docs = json.load(open(f'{docs_folder}/{file}'))\n",
    "  for group in docs.values():\n",
    "    for doc in group:\n",
    "      duplicate_cnt[str(doc['data'])] += 1\n",
    "duplicate_cnt.most_common(5)"
   ]
  },
  {
   "cell_type": "code",
   "execution_count": 13,
   "metadata": {},
   "outputs": [
    {
     "data": {
      "text/plain": [
       "4849"
      ]
     },
     "execution_count": 13,
     "metadata": {},
     "output_type": "execute_result"
    }
   ],
   "source": [
    "summ = sum([v for v in duplicate_cnt.values() if v > 1])\n",
    "summ # total number of duplicates"
   ]
  },
  {
   "cell_type": "code",
   "execution_count": 14,
   "metadata": {},
   "outputs": [
    {
     "data": {
      "text/plain": [
       "2346"
      ]
     },
     "execution_count": 14,
     "metadata": {},
     "output_type": "execute_result"
    }
   ],
   "source": [
    "lenn = len([v for v in duplicate_cnt.values() if v > 1])\n",
    "lenn# number of duplicated docs"
   ]
  },
  {
   "cell_type": "code",
   "execution_count": 15,
   "metadata": {},
   "outputs": [
    {
     "data": {
      "text/plain": [
       "2.06692242114237"
      ]
     },
     "execution_count": 15,
     "metadata": {},
     "output_type": "execute_result"
    }
   ],
   "source": [
    "summ/lenn  # avg. number of duplicates per distinct doc"
   ]
  },
  {
   "cell_type": "markdown",
   "metadata": {},
   "source": [
    "How many distinct documents are there?"
   ]
  },
  {
   "cell_type": "code",
   "execution_count": 16,
   "metadata": {},
   "outputs": [
    {
     "data": {
      "text/plain": [
       "212035"
      ]
     },
     "execution_count": 16,
     "metadata": {},
     "output_type": "execute_result"
    }
   ],
   "source": [
    "len(duplicate_cnt)"
   ]
  },
  {
   "cell_type": "code",
   "execution_count": null,
   "metadata": {},
   "outputs": [],
   "source": []
  }
 ],
 "metadata": {
  "interpreter": {
   "hash": "afec8bd1b97d7d536c9012edeeda7c68a0e99e84af90a3d324c5b7b0f06b2586"
  },
  "kernelspec": {
   "display_name": "Python 3.7.6 ('base')",
   "language": "python",
   "name": "python3"
  },
  "language_info": {
   "codemirror_mode": {
    "name": "ipython",
    "version": 3
   },
   "file_extension": ".py",
   "mimetype": "text/x-python",
   "name": "python",
   "nbconvert_exporter": "python",
   "pygments_lexer": "ipython3",
   "version": "3.7.6"
  },
  "orig_nbformat": 4
 },
 "nbformat": 4,
 "nbformat_minor": 2
}
