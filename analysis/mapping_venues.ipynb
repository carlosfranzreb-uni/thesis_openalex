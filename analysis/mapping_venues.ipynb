{
 "cells": [
  {
   "cell_type": "markdown",
   "metadata": {},
   "source": [
    "Here we analyse the manual assignment of venues to subjects."
   ]
  },
  {
   "cell_type": "code",
   "execution_count": 15,
   "metadata": {},
   "outputs": [],
   "source": [
    "import json\n",
    "from matplotlib import pyplot as plt"
   ]
  },
  {
   "cell_type": "code",
   "execution_count": 3,
   "metadata": {},
   "outputs": [],
   "source": [
    "candidates = {\n",
    "  'venues': json.load(open('../data/json/dim/all/venue_candidates.json')),\n",
    "  'advisors': json.load(open('../data/json/dim/all/advisor_candidates.json')),\n",
    "  'referees': json.load(open('../data/json/dim/all/venue_candidates.json'))\n",
    "}\n",
    "assigned = json.load(open('../data/openalex/field_venue_cnt.json'))"
   ]
  },
  {
   "cell_type": "markdown",
   "metadata": {},
   "source": [
    "Gather the documents of the venues without duplicate venues or documents"
   ]
  },
  {
   "cell_type": "code",
   "execution_count": 18,
   "metadata": {},
   "outputs": [
    {
     "data": {
      "text/plain": [
       "137"
      ]
     },
     "execution_count": 18,
     "metadata": {},
     "output_type": "execute_result"
    }
   ],
   "source": [
    "assigned_venues = []\n",
    "for field in assigned:\n",
    "  assigned_venues += list(assigned[field].keys())\n",
    "len(assigned_venues)  # number of venues in the mapping"
   ]
  },
  {
   "cell_type": "code",
   "execution_count": 20,
   "metadata": {},
   "outputs": [
    {
     "data": {
      "text/plain": [
       "(137, 132)"
      ]
     },
     "execution_count": 20,
     "metadata": {},
     "output_type": "execute_result"
    }
   ],
   "source": [
    "len(assigned_venues), len(set(assigned_venues))  # are there duplicates?"
   ]
  },
  {
   "cell_type": "code",
   "execution_count": 23,
   "metadata": {},
   "outputs": [
    {
     "data": {
      "text/plain": [
       "132"
      ]
     },
     "execution_count": 23,
     "metadata": {},
     "output_type": "execute_result"
    }
   ],
   "source": [
    "venues = json.load(open('../data/json/dim/all/ert/venue_publications.json'))\n",
    "advisors = json.load(open('../data/json/dim/all/ert/advisors.json'))\n",
    "referees = json.load(open('../data/json/dim/all/ert/referees.json'))\n",
    "all_venues = {}\n",
    "for collection in (venues, advisors, referees):\n",
    "  for venue in collection:\n",
    "    if venue in assigned_venues:\n",
    "      if venue in all_venues:\n",
    "        all_venues[venue] = all_venues[venue].union(set(collection[venue]))\n",
    "      else:\n",
    "        all_venues[venue] = set(collection[venue])\n",
    "len(all_venues)  # number of distinct venues in the mapping"
   ]
  },
  {
   "cell_type": "markdown",
   "metadata": {},
   "source": [
    "How many venues are there with at least 10 documents?"
   ]
  },
  {
   "cell_type": "code",
   "execution_count": 4,
   "metadata": {},
   "outputs": [
    {
     "name": "stdout",
     "output_type": "stream",
     "text": [
      "venues 70\n",
      "advisors 13\n",
      "referees 70\n",
      "total 153\n"
     ]
    }
   ],
   "source": [
    "cnt = 0\n",
    "for venue in candidates:\n",
    "  print(venue, len(candidates[venue]))\n",
    "  cnt += len(candidates[venue])\n",
    "print('total', cnt)"
   ]
  },
  {
   "cell_type": "code",
   "execution_count": null,
   "metadata": {},
   "outputs": [],
   "source": []
  },
  {
   "cell_type": "markdown",
   "metadata": {},
   "source": [
    "Analysis of venues included in the dataset."
   ]
  },
  {
   "cell_type": "code",
   "execution_count": 9,
   "metadata": {},
   "outputs": [
    {
     "data": {
      "text/plain": [
       "137"
      ]
     },
     "execution_count": 9,
     "metadata": {},
     "output_type": "execute_result"
    }
   ],
   "source": [
    "venue_cnt = {k: len(v) for k, v in assigned.items()}\n",
    "sum(venue_cnt.values())  # no. of venues in the dataset"
   ]
  },
  {
   "cell_type": "code",
   "execution_count": 10,
   "metadata": {},
   "outputs": [
    {
     "data": {
      "text/plain": [
       "7.2105263157894735"
      ]
     },
     "execution_count": 10,
     "metadata": {},
     "output_type": "execute_result"
    }
   ],
   "source": [
    "sum(venue_cnt.values()) / len(venue_cnt.values())  # avg. no. of venues per field"
   ]
  },
  {
   "cell_type": "code",
   "execution_count": 14,
   "metadata": {},
   "outputs": [
    {
     "data": {
      "text/plain": [
       "3998"
      ]
     },
     "execution_count": 14,
     "metadata": {},
     "output_type": "execute_result"
    }
   ],
   "source": [
    "doc_cnt = {}  # no. of docs per field\n",
    "for field in assigned:\n",
    "  doc_cnt[field] = sum(assigned[field].values())\n",
    "sum(doc_cnt.values())  # no. of docs in the dataset\n"
   ]
  },
  {
   "cell_type": "code",
   "execution_count": 16,
   "metadata": {},
   "outputs": [
    {
     "data": {
      "image/png": "[encoded data removed]",
      "text/plain": [
       "<Figure size 864x360 with 1 Axes>"
      ]
     },
     "metadata": {
      "needs_background": "light"
     },
     "output_type": "display_data"
    }
   ],
   "source": [
    "x = list(doc_cnt.keys())\n",
    "x[x.index('Environmental science')] = 'Env. science'\n",
    "plt.figure(figsize=(12,5))\n",
    "plt.bar(range(len(doc_cnt)), doc_cnt.values())\n",
    "plt.xticks(range(len(doc_cnt)), x, rotation=40)\n",
    "plt.xlabel('Field of study')\n",
    "plt.ylabel('No. of documents')\n",
    "plt.show()"
   ]
  },
  {
   "cell_type": "code",
   "execution_count": null,
   "metadata": {},
   "outputs": [],
   "source": []
  }
 ],
 "metadata": {
  "interpreter": {
   "hash": "afec8bd1b97d7d536c9012edeeda7c68a0e99e84af90a3d324c5b7b0f06b2586"
  },
  "kernelspec": {
   "display_name": "Python 3.7.6 ('base')",
   "language": "python",
   "name": "python3"
  },
  "language_info": {
   "codemirror_mode": {
    "name": "ipython",
    "version": 3
   },
   "file_extension": ".py",
   "mimetype": "text/x-python",
   "name": "python",
   "nbconvert_exporter": "python",
   "pygments_lexer": "ipython3",
   "version": "3.7.6"
  },
  "orig_nbformat": 4
 },
 "nbformat": 4,
 "nbformat_minor": 2
}
