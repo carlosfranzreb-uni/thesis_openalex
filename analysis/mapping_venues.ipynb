{
 "cells": [
  {
   "cell_type": "markdown",
   "metadata": {},
   "source": [
    "Here we analyse the manual assignment of venues to subjects."
   ]
  },
  {
   "cell_type": "code",
   "execution_count": 1,
   "metadata": {},
   "outputs": [],
   "source": [
    "import json\n",
    "from matplotlib import pyplot as plt\n",
    "from collections import Counter"
   ]
  },
  {
   "cell_type": "code",
   "execution_count": 2,
   "metadata": {},
   "outputs": [],
   "source": [
    "candidates = {\n",
    "  'venues': json.load(open('../data/json/dim/all/venue_candidates.json')),\n",
    "  'advisors': json.load(open('../data/json/dim/all/advisor_candidates.json')),\n",
    "  'referees': json.load(open('../data/json/dim/all/venue_candidates.json'))\n",
    "}\n",
    "assigned = json.load(open('../data/openalex/field_venue_cnt.json'))"
   ]
  },
  {
   "cell_type": "markdown",
   "metadata": {},
   "source": [
    "Gather the documents of the venues without duplicate venues or documents"
   ]
  },
  {
   "cell_type": "code",
   "execution_count": 3,
   "metadata": {},
   "outputs": [
    {
     "data": {
      "text/plain": [
       "137"
      ]
     },
     "execution_count": 3,
     "metadata": {},
     "output_type": "execute_result"
    }
   ],
   "source": [
    "assigned_venues = []\n",
    "for field in assigned:\n",
    "  assigned_venues += list(assigned[field].keys())\n",
    "len(assigned_venues)  # number of venues in the mapping"
   ]
  },
  {
   "cell_type": "code",
   "execution_count": 4,
   "metadata": {},
   "outputs": [
    {
     "data": {
      "text/plain": [
       "(137, 132)"
      ]
     },
     "execution_count": 4,
     "metadata": {},
     "output_type": "execute_result"
    }
   ],
   "source": [
    "len(assigned_venues), len(set(assigned_venues))  # are there duplicates?"
   ]
  },
  {
   "cell_type": "code",
   "execution_count": 5,
   "metadata": {},
   "outputs": [
    {
     "data": {
      "text/plain": [
       "132"
      ]
     },
     "execution_count": 5,
     "metadata": {},
     "output_type": "execute_result"
    }
   ],
   "source": [
    "venues = json.load(open('../data/json/dim/all/ert/venue_publications.json'))\n",
    "advisors = json.load(open('../data/json/dim/all/ert/advisors.json'))\n",
    "referees = json.load(open('../data/json/dim/all/ert/referees.json'))\n",
    "all_venues = {}\n",
    "for collection in (venues, advisors, referees):\n",
    "  for venue in collection:\n",
    "    if venue in assigned_venues:\n",
    "      if venue in all_venues:\n",
    "        all_venues[venue] = all_venues[venue].union(set(collection[venue]))\n",
    "      else:\n",
    "        all_venues[venue] = set(collection[venue])\n",
    "len(all_venues)  # number of distinct venues in the mapping"
   ]
  },
  {
   "cell_type": "code",
   "execution_count": 6,
   "metadata": {},
   "outputs": [
    {
     "data": {
      "text/plain": [
       "[(1, 31), (2, 16), (3, 10), (6, 6), (49, 4)]"
      ]
     },
     "execution_count": 6,
     "metadata": {},
     "output_type": "execute_result"
    }
   ],
   "source": [
    "venue_cnt = Counter([len(v) for v in all_venues.values()])\n",
    "venue_cnt.most_common(5)"
   ]
  },
  {
   "cell_type": "markdown",
   "metadata": {},
   "source": [
    "How many venues are there with at least 10 documents?"
   ]
  },
  {
   "cell_type": "code",
   "execution_count": 7,
   "metadata": {},
   "outputs": [
    {
     "name": "stdout",
     "output_type": "stream",
     "text": [
      "venues 70\n",
      "advisors 13\n",
      "referees 70\n",
      "total 153\n"
     ]
    }
   ],
   "source": [
    "cnt = 0\n",
    "for venue in candidates:\n",
    "  print(venue, len(candidates[venue]))\n",
    "  cnt += len(candidates[venue])\n",
    "print('total', cnt)"
   ]
  },
  {
   "cell_type": "markdown",
   "metadata": {},
   "source": [
    "Analysis of venues included in the dataset."
   ]
  },
  {
   "cell_type": "code",
   "execution_count": 8,
   "metadata": {},
   "outputs": [
    {
     "data": {
      "text/plain": [
       "3711"
      ]
     },
     "execution_count": 8,
     "metadata": {},
     "output_type": "execute_result"
    }
   ],
   "source": [
    "field_docs = {}\n",
    "for field in assigned:\n",
    "  field_docs[field] = 0\n",
    "  for venue in assigned[field]:\n",
    "    field_docs[field] += len(all_venues[venue])\n",
    "sum(field_docs.values())  # number of assignments"
   ]
  },
  {
   "cell_type": "code",
   "execution_count": 9,
   "metadata": {},
   "outputs": [
    {
     "data": {
      "image/png": "[encoded data removed]",
      "text/plain": [
       "<Figure size 864x216 with 1 Axes>"
      ]
     },
     "metadata": {
      "needs_background": "light"
     },
     "output_type": "display_data"
    },
    {
     "data": {
      "text/plain": [
       "dict_values([264, 499, 395, 449, 134, 257, 217, 399, 8, 394, 27, 19, 152, 0, 291, 93, 21, 42, 50])"
      ]
     },
     "execution_count": 9,
     "metadata": {},
     "output_type": "execute_result"
    }
   ],
   "source": [
    "x = list(field_docs.keys())\n",
    "x[x.index('Environmental science')] = 'Env. science'\n",
    "plt.figure(figsize=(12,3))\n",
    "plt.bar(range(len(field_docs)), field_docs.values())\n",
    "plt.xticks(range(len(field_docs)), x, rotation=40)\n",
    "plt.xlabel('Field of study')\n",
    "plt.ylabel('No. of documents')\n",
    "plt.show()\n",
    "field_docs.values()"
   ]
  },
  {
   "cell_type": "code",
   "execution_count": 10,
   "metadata": {},
   "outputs": [
    {
     "name": "stdout",
     "output_type": "stream",
     "text": [
      "Medicine 0.07113985448666128\n",
      "Chemistry 0.13446510374562112\n",
      "Biology 0.1064403125842091\n",
      "Computer science 0.12099164645648074\n",
      "Materials science 0.036108865534896256\n",
      "Engineering 0.06925357046618162\n",
      "Psychology 0.05847480463486931\n",
      "Physics 0.10751818916734034\n",
      "Political science 0.002155753166262463\n",
      "Mathematics 0.1061708434384263\n",
      "Business 0.007275666936135812\n",
      "Sociology 0.005119913769873349\n",
      "Geography 0.040959310158986795\n",
      "Art 0.0\n",
      "Environmental science 0.07841552142279709\n",
      "Economics 0.025060630557801132\n",
      "Geology 0.005658852061438965\n",
      "History 0.01131770412287793\n",
      "Philosophy 0.013473457289140393\n"
     ]
    }
   ],
   "source": [
    "total = sum(field_docs.values())\n",
    "for key, cnt in field_docs.items():\n",
    "  print(key, cnt/total)"
   ]
  },
  {
   "cell_type": "code",
   "execution_count": 11,
   "metadata": {},
   "outputs": [
    {
     "name": "stdout",
     "output_type": "stream",
     "text": [
      "[(1, 31), (2, 16), (3, 10), (6, 6), (49, 4)]\n"
     ]
    }
   ],
   "source": [
    "docs_per_venue = Counter([len(v) for v in all_venues.values()])\n",
    "print(docs_per_venue.most_common(5))  # most common no. of documents per venue"
   ]
  },
  {
   "cell_type": "code",
   "execution_count": 12,
   "metadata": {},
   "outputs": [
    {
     "data": {
      "image/png": "[encoded data removed]",
      "text/plain": [
       "<Figure size 432x288 with 1 Axes>"
      ]
     },
     "metadata": {
      "needs_background": "light"
     },
     "output_type": "display_data"
    },
    {
     "data": {
      "text/plain": [
       "[31, 16, 10, 2, 2, 6, 2, 0, 63]"
      ]
     },
     "execution_count": 12,
     "metadata": {},
     "output_type": "execute_result"
    }
   ],
   "source": [
    "x = [str(i) for i in range(1, 10)]\n",
    "x[-1] += '+'\n",
    "y = [docs_per_venue[i] for i in range(1, 9)] \n",
    "y += [sum(docs_per_venue[i] for i in docs_per_venue if i >= 9)]\n",
    "plt.bar(range(1, 10), y)\n",
    "plt.xlabel('No. of documents')\n",
    "plt.ylabel('No. of venues')\n",
    "plt.xticks(range(1, 10), x)\n",
    "plt.show()\n",
    "y"
   ]
  },
  {
   "cell_type": "code",
   "execution_count": 13,
   "metadata": {},
   "outputs": [
    {
     "data": {
      "text/plain": [
       "(0.4772727272727273, 0.23484848484848486)"
      ]
     },
     "execution_count": 13,
     "metadata": {},
     "output_type": "execute_result"
    }
   ],
   "source": [
    "63/sum(y), 31/sum(y)"
   ]
  },
  {
   "cell_type": "code",
   "execution_count": 14,
   "metadata": {},
   "outputs": [
    {
     "data": {
      "text/plain": [
       "3377"
      ]
     },
     "execution_count": 14,
     "metadata": {},
     "output_type": "execute_result"
    }
   ],
   "source": [
    "docs = {}\n",
    "for venue in all_venues:\n",
    "  for doc in all_venues[venue]:\n",
    "    if doc in docs:\n",
    "      docs[doc].append(venue)\n",
    "    else:\n",
    "      docs[doc] = [venue]\n",
    "len(docs)  # number of distinct docs in the mapping"
   ]
  },
  {
   "cell_type": "code",
   "execution_count": 15,
   "metadata": {},
   "outputs": [
    {
     "data": {
      "image/png": "[encoded data removed]",
      "text/plain": [
       "<Figure size 432x288 with 1 Axes>"
      ]
     },
     "metadata": {
      "needs_background": "light"
     },
     "output_type": "display_data"
    },
    {
     "data": {
      "text/plain": [
       "[3321, 56, 0, 0, 0, 0, 0, 0, 0]"
      ]
     },
     "execution_count": 15,
     "metadata": {},
     "output_type": "execute_result"
    }
   ],
   "source": [
    "venues_per_doc = Counter([len(v) for v in docs.values()])\n",
    "x = [str(i) for i in range(1, 10)]\n",
    "x[-1] += '+'\n",
    "y = [venues_per_doc[i] for i in range(1, 9)] \n",
    "y += [sum(venues_per_doc[i] for i in venues_per_doc if i >= 9)]\n",
    "plt.bar(range(1, 10), y)\n",
    "plt.xlabel('No. of venues')\n",
    "plt.ylabel('No. of documents (log. scale)')\n",
    "plt.yscale('log')\n",
    "plt.xticks(range(1, 10), x)\n",
    "plt.show()\n",
    "y"
   ]
  },
  {
   "cell_type": "markdown",
   "metadata": {},
   "source": [
    "What is the distribution of documents across repositories?"
   ]
  },
  {
   "cell_type": "code",
   "execution_count": 16,
   "metadata": {},
   "outputs": [
    {
     "data": {
      "text/plain": [
       "{'depositonce': 1190, 'edoc': 1052, 'refubium': 1135}"
      ]
     },
     "execution_count": 16,
     "metadata": {},
     "output_type": "execute_result"
    }
   ],
   "source": [
    "repo_cnt = {'depositonce': 0, 'edoc': 0, 'refubium': 0}\n",
    "for doc in docs:\n",
    "  for repo in repo_cnt:\n",
    "    if repo in doc:\n",
    "      repo_cnt[repo] += 1\n",
    "      break\n",
    "repo_cnt"
   ]
  },
  {
   "cell_type": "code",
   "execution_count": 17,
   "metadata": {},
   "outputs": [
    {
     "name": "stdout",
     "output_type": "stream",
     "text": [
      "depositonce 0.15998924442054316\n",
      "edoc 0.14032279578498066\n",
      "refubium 0.07847068584070796\n"
     ]
    }
   ],
   "source": [
    "repo_totals = {'depositonce': 7438, 'edoc': 7497, 'refubium': 14464}  # total no. of docs\n",
    "for repo in repo_totals:\n",
    "  print(repo, repo_cnt[repo]/repo_totals[repo])"
   ]
  },
  {
   "cell_type": "code",
   "execution_count": 18,
   "metadata": {},
   "outputs": [
    {
     "data": {
      "text/plain": [
       "(3377, 0.11486785264804926)"
      ]
     },
     "execution_count": 18,
     "metadata": {},
     "output_type": "execute_result"
    }
   ],
   "source": [
    "sum(repo_cnt.values()), sum(repo_cnt.values()) / sum(repo_totals.values())"
   ]
  },
  {
   "cell_type": "code",
   "execution_count": null,
   "metadata": {},
   "outputs": [],
   "source": []
  }
 ],
 "metadata": {
  "interpreter": {
   "hash": "afec8bd1b97d7d536c9012edeeda7c68a0e99e84af90a3d324c5b7b0f06b2586"
  },
  "kernelspec": {
   "display_name": "Python 3.7.6 ('base')",
   "language": "python",
   "name": "python3"
  },
  "language_info": {
   "codemirror_mode": {
    "name": "ipython",
    "version": 3
   },
   "file_extension": ".py",
   "mimetype": "text/x-python",
   "name": "python",
   "nbconvert_exporter": "python",
   "pygments_lexer": "ipython3",
   "version": "3.7.6"
  },
  "orig_nbformat": 4
 },
 "nbformat": 4,
 "nbformat_minor": 2
}
