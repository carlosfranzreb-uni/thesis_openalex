{
 "cells": [
  {
   "cell_type": "markdown",
   "metadata": {},
   "source": [
    "Analyse the hierarchy of the retrieved OpenAlex subjects"
   ]
  },
  {
   "cell_type": "code",
   "execution_count": 4,
   "metadata": {},
   "outputs": [],
   "source": [
    "import json\n",
    "from collections import Counter"
   ]
  },
  {
   "cell_type": "code",
   "execution_count": 3,
   "metadata": {},
   "outputs": [
    {
     "data": {
      "text/plain": [
       "2157"
      ]
     },
     "execution_count": 3,
     "metadata": {},
     "output_type": "execute_result"
    }
   ],
   "source": [
    "subjects_file = '../data/openalex/subjects.json'\n",
    "subjects = json.load(open(subjects_file))\n",
    "len(subjects)"
   ]
  },
  {
   "cell_type": "code",
   "execution_count": 6,
   "metadata": {},
   "outputs": [
    {
     "data": {
      "text/plain": [
       "Counter({0: 19, 1: 25, 2: 1999, 3: 108, 4: 6})"
      ]
     },
     "execution_count": 6,
     "metadata": {},
     "output_type": "execute_result"
    }
   ],
   "source": [
    "level_cnt = Counter(v['level'] for v in subjects.values())\n",
    "level_cnt  # number of subjects per level"
   ]
  },
  {
   "cell_type": "markdown",
   "metadata": {},
   "source": [
    "For each level, how popular is each path to the root? With path I mean which levels are present in the list of ancestors."
   ]
  },
  {
   "cell_type": "code",
   "execution_count": 15,
   "metadata": {},
   "outputs": [],
   "source": [
    "def get_path(ancestors):\n",
    "  \"\"\" Return the set of levels present in the ancestor list. \"\"\"\n",
    "  levels = set([a['level'] for a in ancestors])\n",
    "  return str(sorted(levels))"
   ]
  },
  {
   "cell_type": "code",
   "execution_count": 16,
   "metadata": {},
   "outputs": [],
   "source": [
    "def count_paths(level):\n",
    "  \"\"\" Count paths for a given level. \"\"\"\n",
    "  paths = Counter()\n",
    "  for subject in subjects.values():\n",
    "    if subject['level'] == level:\n",
    "      path = get_path(subject['ancestors'])\n",
    "      paths[path] += 1\n",
    "  return paths"
   ]
  },
  {
   "cell_type": "code",
   "execution_count": 17,
   "metadata": {},
   "outputs": [
    {
     "data": {
      "text/plain": [
       "Counter({'[0, 1]': 1997, '[0]': 2})"
      ]
     },
     "execution_count": 17,
     "metadata": {},
     "output_type": "execute_result"
    }
   ],
   "source": [
    "lv2 = count_paths(2)\n",
    "lv2"
   ]
  },
  {
   "cell_type": "code",
   "execution_count": 18,
   "metadata": {},
   "outputs": [
    {
     "data": {
      "text/plain": [
       "(Counter({'[0, 1]': 11, '[0, 1, 2]': 97}), Counter({'[0, 1, 2, 3]': 6}))"
      ]
     },
     "execution_count": 18,
     "metadata": {},
     "output_type": "execute_result"
    }
   ],
   "source": [
    "count_paths(3), count_paths(4)"
   ]
  },
  {
   "cell_type": "markdown",
   "metadata": {},
   "source": [
    "Most of the subjects (all but 13) have complete paths up to the root. Which subjects of levels 2 and three don't?"
   ]
  },
  {
   "cell_type": "code",
   "execution_count": 25,
   "metadata": {},
   "outputs": [],
   "source": [
    "def incomplete_paths(level):\n",
    "  incomplete = {}\n",
    "  for id, subject in subjects.items():\n",
    "    if subject['level'] == level:\n",
    "      path = get_path(subject['ancestors'])\n",
    "      if path != str(list(range(level))):\n",
    "        incomplete[id] = subject['name']\n",
    "  return incomplete"
   ]
  },
  {
   "cell_type": "code",
   "execution_count": 26,
   "metadata": {},
   "outputs": [
    {
     "data": {
      "text/plain": [
       "{'https://openalex.org/C21200559': 'Sensitivity (control systems)',\n",
       " 'https://openalex.org/C62354387': 'Boundary (topology)'}"
      ]
     },
     "execution_count": 26,
     "metadata": {},
     "output_type": "execute_result"
    }
   ],
   "source": [
    "incomplete_paths(2)"
   ]
  },
  {
   "cell_type": "code",
   "execution_count": 27,
   "metadata": {},
   "outputs": [
    {
     "data": {
      "text/plain": [
       "{'https://openalex.org/C71405471': 'Quality management',\n",
       " 'https://openalex.org/C106436119': 'Quality assurance',\n",
       " 'https://openalex.org/C106906290': \"Cronbach's alpha\",\n",
       " 'https://openalex.org/C49453240': 'Construct validity',\n",
       " 'https://openalex.org/C40722632': 'Confirmatory factor analysis',\n",
       " 'https://openalex.org/C24756922': 'Data quality',\n",
       " 'https://openalex.org/C138897024': 'Total quality management',\n",
       " 'https://openalex.org/C165957694': 'Exploratory factor analysis',\n",
       " 'https://openalex.org/C2776950860': 'Originality',\n",
       " 'https://openalex.org/C71760877': 'Cultural identity',\n",
       " 'https://openalex.org/C98447023': 'Social identity theory'}"
      ]
     },
     "execution_count": 27,
     "metadata": {},
     "output_type": "execute_result"
    }
   ],
   "source": [
    "incomplete_paths(3)"
   ]
  },
  {
   "cell_type": "code",
   "execution_count": null,
   "metadata": {},
   "outputs": [],
   "source": []
  }
 ],
 "metadata": {
  "interpreter": {
   "hash": "afec8bd1b97d7d536c9012edeeda7c68a0e99e84af90a3d324c5b7b0f06b2586"
  },
  "kernelspec": {
   "display_name": "Python 3.7.6 ('base')",
   "language": "python",
   "name": "python3"
  },
  "language_info": {
   "codemirror_mode": {
    "name": "ipython",
    "version": 3
   },
   "file_extension": ".py",
   "mimetype": "text/x-python",
   "name": "python",
   "nbconvert_exporter": "python",
   "pygments_lexer": "ipython3",
   "version": "3.7.6"
  },
  "orig_nbformat": 4
 },
 "nbformat": 4,
 "nbformat_minor": 2
}
