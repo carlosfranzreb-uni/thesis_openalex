{
 "cells": [
  {
   "cell_type": "markdown",
   "metadata": {},
   "source": [
    "Analyse the documents that were retrieved from OpenAlex."
   ]
  },
  {
   "cell_type": "code",
   "execution_count": 10,
   "metadata": {},
   "outputs": [],
   "source": [
    "import json\n",
    "from os import listdir\n",
    "from collections import Counter\n",
    "from matplotlib import pyplot as plt"
   ]
  },
  {
   "cell_type": "code",
   "execution_count": 2,
   "metadata": {},
   "outputs": [],
   "source": [
    "docs_folder = '../data/openalex/docs'\n",
    "subjects_file = '../data/openalex/subjects.json'\n",
    "subjects = json.load(open(subjects_file))"
   ]
  },
  {
   "cell_type": "code",
   "execution_count": 3,
   "metadata": {},
   "outputs": [
    {
     "data": {
      "text/plain": [
       "2157"
      ]
     },
     "execution_count": 3,
     "metadata": {},
     "output_type": "execute_result"
    }
   ],
   "source": [
    "doc_cnt = {}  # map subjects to their number of docs\n",
    "for file in listdir(docs_folder):\n",
    "  docs = json.load(open(f'{docs_folder}/{file}'))\n",
    "  for subject in docs:\n",
    "    doc_cnt[subject] = len(docs[subject])\n",
    "len(doc_cnt)"
   ]
  },
  {
   "cell_type": "code",
   "execution_count": 4,
   "metadata": {},
   "outputs": [
    {
     "data": {
      "text/plain": [
       "215203"
      ]
     },
     "execution_count": 4,
     "metadata": {},
     "output_type": "execute_result"
    }
   ],
   "source": [
    "sum(doc_cnt.values())  # total no. of docs"
   ]
  },
  {
   "cell_type": "code",
   "execution_count": 5,
   "metadata": {},
   "outputs": [
    {
     "data": {
      "text/plain": [
       "7"
      ]
     },
     "execution_count": 5,
     "metadata": {},
     "output_type": "execute_result"
    }
   ],
   "source": [
    "missing_cnt = {}  # no. of subjects that don't have 100 docs\n",
    "for subject, cnt in doc_cnt.items():\n",
    "  if cnt != 100:\n",
    "    missing_cnt[subject] = cnt\n",
    "len(missing_cnt)"
   ]
  },
  {
   "cell_type": "code",
   "execution_count": 6,
   "metadata": {},
   "outputs": [
    {
     "name": "stdout",
     "output_type": "stream",
     "text": [
      "Exploit 8\n",
      "Algorithm design 0\n",
      "Central nervous system disease 45\n",
      "Social system 62\n",
      "Scrutiny 86\n",
      "Premise 0\n",
      "Strengths and weaknesses 2\n"
     ]
    }
   ],
   "source": [
    "for subject, cnt in missing_cnt.items():\n",
    "  print(subjects[subject]['name'], cnt)"
   ]
  },
  {
   "cell_type": "markdown",
   "metadata": {},
   "source": [
    "These were the docs retrieved for each document, not the total counts of occurrences of each subject, as each doc has multiple subjects, not only the one it was queried for. How often does each subject really occur?"
   ]
  },
  {
   "cell_type": "code",
   "execution_count": 7,
   "metadata": {},
   "outputs": [
    {
     "data": {
      "text/plain": [
       "2157"
      ]
     },
     "execution_count": 7,
     "metadata": {},
     "output_type": "execute_result"
    }
   ],
   "source": [
    "subject_cnt = {subject_id: 0 for subject_id in subjects}\n",
    "for file in listdir(docs_folder):\n",
    "  docs = json.load(open(f'{docs_folder}/{file}'))\n",
    "  for group in docs.values():\n",
    "    for doc in group:\n",
    "      for subject in doc['subjects'].keys():\n",
    "        if subject in subject_cnt:\n",
    "          subject_cnt[subject] += 1\n",
    "len(subject_cnt)"
   ]
  },
  {
   "cell_type": "code",
   "execution_count": 8,
   "metadata": {},
   "outputs": [
    {
     "data": {
      "text/plain": [
       "1174027"
      ]
     },
     "execution_count": 8,
     "metadata": {},
     "output_type": "execute_result"
    }
   ],
   "source": [
    "sum(subject_cnt.values())  # no. of subject assignments"
   ]
  },
  {
   "cell_type": "markdown",
   "metadata": {},
   "source": [
    "How many assignments does each field have?"
   ]
  },
  {
   "cell_type": "code",
   "execution_count": 9,
   "metadata": {},
   "outputs": [
    {
     "data": {
      "text/plain": [
       "19"
      ]
     },
     "execution_count": 9,
     "metadata": {},
     "output_type": "execute_result"
    }
   ],
   "source": [
    "field_distr = {s_id: 0 for s_id in subjects if subjects[s_id]['level'] == 0}\n",
    "for file in listdir(docs_folder):\n",
    "  docs = json.load(open(f'{docs_folder}/{file}'))\n",
    "  for group in docs.values():\n",
    "    for doc in group:\n",
    "      for subject in doc['subjects'].keys():\n",
    "        if subject in field_distr:\n",
    "          field_distr[subject] += 1\n",
    "len(field_distr)"
   ]
  },
  {
   "cell_type": "code",
   "execution_count": 17,
   "metadata": {},
   "outputs": [
    {
     "data": {
      "text/plain": [
       "298484"
      ]
     },
     "execution_count": 17,
     "metadata": {},
     "output_type": "execute_result"
    }
   ],
   "source": [
    "sum(field_distr.values())  # no. of times fields are assigned to docs"
   ]
  },
  {
   "cell_type": "code",
   "execution_count": 16,
   "metadata": {},
   "outputs": [
    {
     "data": {
      "image/png": "[encoded data removed]",
      "text/plain": [
       "<Figure size 864x360 with 1 Axes>"
      ]
     },
     "metadata": {
      "needs_background": "light"
     },
     "output_type": "display_data"
    }
   ],
   "source": [
    "plt.figure(figsize=(12,5))\n",
    "x = range(len(field_distr))\n",
    "field_names = [subjects[s]['name'] for s in subjects if s in field_distr]\n",
    "field_names[field_names.index('Environmental science')] = 'Env. science'\n",
    "plt.bar(x, field_distr.values())\n",
    "plt.xticks(x, field_names, rotation=30)\n",
    "plt.xlabel('MAG field of study')\n",
    "plt.ylabel('No. of assignments')\n",
    "plt.show()"
   ]
  },
  {
   "cell_type": "markdown",
   "metadata": {},
   "source": [
    "How many documents don't have a field assigned to them?"
   ]
  },
  {
   "cell_type": "code",
   "execution_count": 21,
   "metadata": {},
   "outputs": [
    {
     "data": {
      "text/plain": [
       "1785"
      ]
     },
     "execution_count": 21,
     "metadata": {},
     "output_type": "execute_result"
    }
   ],
   "source": [
    "no_field = 0\n",
    "for file in listdir(docs_folder):\n",
    "  docs = json.load(open(f'{docs_folder}/{file}'))\n",
    "  for group in docs.values():\n",
    "    for doc in group:\n",
    "      has_field = False\n",
    "      for subject in doc['subjects'].keys():\n",
    "        if subject in subjects:\n",
    "          if subjects[subject]['level'] == 0:\n",
    "            has_field = True\n",
    "            break\n",
    "      if not has_field:\n",
    "        no_field += 1\n",
    "no_field"
   ]
  },
  {
   "cell_type": "markdown",
   "metadata": {},
   "source": [
    "Count the occurrence of subject sets of docs that don't have fields assigned to them"
   ]
  },
  {
   "cell_type": "code",
   "execution_count": 24,
   "metadata": {},
   "outputs": [
    {
     "data": {
      "text/plain": [
       "[(\"['Aerodynamics', 'Computational fluid dynamics', 'Mechanics', 'Reynolds number', 'Turbine', 'Turbulence', 'Vortex', 'Wind power', 'Wind speed']\",\n",
       "  8),\n",
       " (\"['Form of the Good']\", 8),\n",
       " (\"['Aerodynamics', 'Computational fluid dynamics', 'Mechanics', 'Rotor (electric)', 'Turbine', 'Turbulence', 'Vortex', 'Wind power', 'Wind speed']\",\n",
       "  7),\n",
       " (\"['Computational fluid dynamics', 'Drag', 'Flow (mathematics)', 'Mechanics', 'Reynolds number', 'Scale (ratio)', 'Scaling', 'Turbulence']\",\n",
       "  7),\n",
       " (\"['Forensic science']\", 7),\n",
       " (\"['San Joaquin']\", 7),\n",
       " (\"['Humanities']\", 6),\n",
       " (\"['Cell', 'Cell biology', 'Mesenchymal stem cell', 'Regeneration (biology)', 'Stem cell', 'Tissue engineering']\",\n",
       "  6),\n",
       " (\"['Computational fluid dynamics', 'Computer simulation', 'Flow (mathematics)', 'Mechanics', 'Obstacle', 'Reynolds number', 'Turbulence']\",\n",
       "  6),\n",
       " (\"['Beam (structure)', 'Finite element method', 'Instability', 'Mechanics', 'Nonlinear system', 'Numerical analysis', 'Planar', 'Stability (learning theory)', 'Stiffness']\",\n",
       "  6)]"
      ]
     },
     "execution_count": 24,
     "metadata": {},
     "output_type": "execute_result"
    }
   ],
   "source": [
    "nofield_cnt = Counter()\n",
    "for file in listdir(docs_folder):\n",
    "  docs = json.load(open(f'{docs_folder}/{file}'))\n",
    "  for group in docs.values():\n",
    "    for doc in group:\n",
    "      has_field = False\n",
    "      for subject in doc['subjects'].keys():\n",
    "        if subject in subjects:\n",
    "          if subjects[subject]['level'] == 0:\n",
    "            has_field = True\n",
    "            break\n",
    "      if not has_field:\n",
    "        s_names = [subjects[s]['name'] for s in subjects if s in doc['subjects'].keys()]\n",
    "        nofield_cnt[str(sorted(s_names))] += 1\n",
    "nofield_cnt.most_common(10)"
   ]
  },
  {
   "cell_type": "markdown",
   "metadata": {},
   "source": [
    "How many of the documents without assigned fields have Mechanics assigned to them?"
   ]
  },
  {
   "cell_type": "code",
   "execution_count": 36,
   "metadata": {},
   "outputs": [
    {
     "data": {
      "text/plain": [
       "159"
      ]
     },
     "execution_count": 36,
     "metadata": {},
     "output_type": "execute_result"
    }
   ],
   "source": [
    "mechanics_cnt = 0\n",
    "for assigned, cnt in nofield_cnt.items():\n",
    "  if \"'Mechanics'\" in assigned:\n",
    "    mechanics_cnt += cnt\n",
    "mechanics_cnt"
   ]
  },
  {
   "cell_type": "markdown",
   "metadata": {},
   "source": [
    "Basic stats"
   ]
  },
  {
   "cell_type": "code",
   "execution_count": 25,
   "metadata": {},
   "outputs": [
    {
     "data": {
      "text/plain": [
       "1.4655172413793103"
      ]
     },
     "execution_count": 25,
     "metadata": {},
     "output_type": "execute_result"
    }
   ],
   "source": [
    "sum(nofield_cnt.values()) / len(nofield_cnt)  # avg. no. of subjects per doc that does not have a field"
   ]
  },
  {
   "cell_type": "code",
   "execution_count": 26,
   "metadata": {},
   "outputs": [
    {
     "data": {
      "text/plain": [
       "885"
      ]
     },
     "execution_count": 26,
     "metadata": {},
     "output_type": "execute_result"
    }
   ],
   "source": [
    "sum([v == 1 for v in nofield_cnt.values()])  # no. of subject sets that occur only once (from those of docs that are not assigned fields)"
   ]
  },
  {
   "cell_type": "markdown",
   "metadata": {},
   "source": [
    "How many assignments are there per level?"
   ]
  },
  {
   "cell_type": "code",
   "execution_count": 27,
   "metadata": {},
   "outputs": [
    {
     "data": {
      "text/plain": [
       "{0: 298484, 1: 102671, 2: 732296, 3: 38803, 4: 1773, 5: 0}"
      ]
     },
     "execution_count": 27,
     "metadata": {},
     "output_type": "execute_result"
    }
   ],
   "source": [
    "level_distr = {lv: 0 for lv in range(6)}\n",
    "for file in listdir(docs_folder):\n",
    "  docs = json.load(open(f'{docs_folder}/{file}'))\n",
    "  for group in docs.values():\n",
    "    for doc in group:\n",
    "      for subject in doc['subjects'].keys():\n",
    "        if subject in subjects:\n",
    "          level_distr[subjects[subject]['level']] += 1\n",
    "level_distr"
   ]
  },
  {
   "cell_type": "code",
   "execution_count": 31,
   "metadata": {},
   "outputs": [
    {
     "data": {
      "text/plain": [
       "6"
      ]
     },
     "execution_count": 31,
     "metadata": {},
     "output_type": "execute_result"
    }
   ],
   "source": [
    "len(level_distr)"
   ]
  },
  {
   "cell_type": "code",
   "execution_count": 35,
   "metadata": {},
   "outputs": [
    {
     "data": {
      "image/png": "[encoded data removed]",
      "text/plain": [
       "<Figure size 432x288 with 1 Axes>"
      ]
     },
     "metadata": {
      "needs_background": "light"
     },
     "output_type": "display_data"
    }
   ],
   "source": [
    "plt.bar(level_distr.keys(), level_distr.values())\n",
    "plt.xticks(list(level_distr.keys()), list(range(1, len(level_distr)+1)))\n",
    "plt.xlabel('Level of the subject hierarchy')\n",
    "plt.ylabel('No. of assignments')\n",
    "plt.show()"
   ]
  },
  {
   "cell_type": "markdown",
   "metadata": {},
   "source": [
    "What are the most popular subjects?"
   ]
  },
  {
   "cell_type": "code",
   "execution_count": 38,
   "metadata": {},
   "outputs": [
    {
     "name": "stdout",
     "output_type": "stream",
     "text": [
      "Materials science 36043\n",
      "Computer science 34319\n",
      "Medicine 33897\n",
      "Psychology 27319\n",
      "Chemistry 25440\n",
      "Environmental science 21586\n",
      "Business 20972\n",
      "Sociology 14784\n",
      "Chemical engineering 12649\n",
      "Political science 12472\n"
     ]
    }
   ],
   "source": [
    "sorted_cnt = dict(sorted(subject_cnt.items(), key=lambda i: i[1], reverse=True))\n",
    "sorted_names = {subjects[s]['name']: cnt for s, cnt in sorted_cnt.items()}\n",
    "show = 0\n",
    "for subject, cnt in sorted_names.items():\n",
    "  print(subject, cnt)\n",
    "  show += 1\n",
    "  if show == 10:\n",
    "    break"
   ]
  },
  {
   "cell_type": "code",
   "execution_count": 41,
   "metadata": {},
   "outputs": [
    {
     "name": "stdout",
     "output_type": "stream",
     "text": [
      "Environmental science 21586\n",
      "Chemical engineering 12649\n",
      "Internal medicine 11008\n",
      "Composite material 10285\n",
      "Artificial intelligence 8246\n",
      "Mechanics 5828\n",
      "Social psychology 5203\n",
      "Mathematics education 4996\n",
      "Soil water 4960\n",
      "Optoelectronics 4740\n",
      "Ecology 4505\n"
     ]
    }
   ],
   "source": [
    "show = 0  # top 10 without fields\n",
    "for subject, cnt in sorted_names.items():\n",
    "  if subject not in field_names:\n",
    "    print(subject, cnt)\n",
    "    show += 1\n",
    "    if show == 11:\n",
    "      break"
   ]
  },
  {
   "cell_type": "code",
   "execution_count": null,
   "metadata": {},
   "outputs": [],
   "source": []
  }
 ],
 "metadata": {
  "interpreter": {
   "hash": "afec8bd1b97d7d536c9012edeeda7c68a0e99e84af90a3d324c5b7b0f06b2586"
  },
  "kernelspec": {
   "display_name": "Python 3.7.6 ('base')",
   "language": "python",
   "name": "python3"
  },
  "language_info": {
   "codemirror_mode": {
    "name": "ipython",
    "version": 3
   },
   "file_extension": ".py",
   "mimetype": "text/x-python",
   "name": "python",
   "nbconvert_exporter": "python",
   "pygments_lexer": "ipython3",
   "version": "3.7.6"
  },
  "orig_nbformat": 4
 },
 "nbformat": 4,
 "nbformat_minor": 2
}
