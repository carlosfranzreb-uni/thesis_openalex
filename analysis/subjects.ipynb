{
 "cells": [
  {
   "cell_type": "markdown",
   "metadata": {},
   "source": [
    "Analyse the subjects extracted in the file `get_subjects.py`."
   ]
  },
  {
   "cell_type": "markdown",
   "metadata": {},
   "source": [
    "We have tried different values for the `works_count` lower limit, to strike a balance between picking subjects of the upper levels, which are more general, and picking subjects that are popular. The problem is that different fields have different popularity. For example, medicine has more than 200 subjects in the third level with more than 25k works, whereas environmental science only has 31 across all levels. Therefore, we have started with a larger limit, iterated over all levels and all fields, and decreased the limit before iterating again. The iterations start at 25k works and go down to 50 subjects."
   ]
  },
  {
   "cell_type": "code",
   "execution_count": 148,
   "metadata": {},
   "outputs": [],
   "source": [
    "import json"
   ]
  },
  {
   "cell_type": "code",
   "execution_count": 149,
   "metadata": {},
   "outputs": [],
   "source": [
    "subjects = json.load(open('../data/openalex/subjects.json'))"
   ]
  },
  {
   "cell_type": "code",
   "execution_count": 150,
   "metadata": {},
   "outputs": [
    {
     "data": {
      "text/plain": [
       "2161"
      ]
     },
     "execution_count": 150,
     "metadata": {},
     "output_type": "execute_result"
    }
   ],
   "source": [
    "len(subjects)  # no. of subjects"
   ]
  },
  {
   "cell_type": "code",
   "execution_count": 151,
   "metadata": {},
   "outputs": [
    {
     "data": {
      "text/plain": [
       "{0: 19, 1: 25, 2: 2003, 3: 108, 4: 6}"
      ]
     },
     "execution_count": 151,
     "metadata": {},
     "output_type": "execute_result"
    }
   ],
   "source": [
    "level_counts = {}  # no. of subjects by level\n",
    "for subject in subjects.values():\n",
    "  if subject['level'] in level_counts:\n",
    "    level_counts[subject['level']] += 1\n",
    "  else:\n",
    "    level_counts[subject['level']] = 1\n",
    "level_counts"
   ]
  },
  {
   "cell_type": "code",
   "execution_count": 152,
   "metadata": {},
   "outputs": [
    {
     "data": {
      "text/plain": [
       "{'Medicine': 326,\n",
       " 'Chemistry': 268,\n",
       " 'Biology': 492,\n",
       " 'Computer science': 254,\n",
       " 'Materials science': 214,\n",
       " 'Engineering': 299,\n",
       " 'Psychology': 260,\n",
       " 'Physics': 344,\n",
       " 'Political science': 327,\n",
       " 'Mathematics': 241,\n",
       " 'Business': 134,\n",
       " 'Sociology': 153,\n",
       " 'Geography': 244,\n",
       " 'Art': 117,\n",
       " 'Environmental science': 103,\n",
       " 'Economics': 248,\n",
       " 'Geology': 247,\n",
       " 'History': 170,\n",
       " 'Philosophy': 219}"
      ]
     },
     "execution_count": 152,
     "metadata": {},
     "output_type": "execute_result"
    }
   ],
   "source": [
    "field_counts = {}  # no. of subject per field (excluding fields)\n",
    "for subject in subjects.values():\n",
    "  if subject['level'] == 0:\n",
    "    field_counts[subject['name']] = 0\n",
    "for subject in subjects.values():\n",
    "  if subject['level'] != 0:\n",
    "    for ancestor in subject['ancestors']:\n",
    "      if ancestor['display_name'] in field_counts:\n",
    "        field_counts[ancestor['display_name']] += 1\n",
    "field_counts"
   ]
  },
  {
   "cell_type": "code",
   "execution_count": 153,
   "metadata": {},
   "outputs": [
    {
     "data": {
      "text/plain": [
       "197163.68671911152"
      ]
     },
     "execution_count": 153,
     "metadata": {},
     "output_type": "execute_result"
    }
   ],
   "source": [
    "works_cnt = [s['works_count'] for s in subjects.values()]\n",
    "sum(works_cnt)/len(works_cnt)  # avg. number of works it is tagged on"
   ]
  },
  {
   "cell_type": "code",
   "execution_count": 154,
   "metadata": {},
   "outputs": [
    {
     "data": {
      "text/plain": [
       "0"
      ]
     },
     "execution_count": 154,
     "metadata": {},
     "output_type": "execute_result"
    }
   ],
   "source": [
    "sum([cnt == 0 for cnt in works_cnt])  # no. of subjects that don't have works"
   ]
  },
  {
   "cell_type": "code",
   "execution_count": 155,
   "metadata": {},
   "outputs": [],
   "source": [
    "for subject in subjects.values():\n",
    "  if subject['works_count'] == 0:\n",
    "    print(subject)"
   ]
  },
  {
   "cell_type": "code",
   "execution_count": null,
   "metadata": {},
   "outputs": [],
   "source": []
  }
 ],
 "metadata": {
  "interpreter": {
   "hash": "afec8bd1b97d7d536c9012edeeda7c68a0e99e84af90a3d324c5b7b0f06b2586"
  },
  "kernelspec": {
   "display_name": "Python 3.7.6 64-bit ('base': conda)",
   "language": "python",
   "name": "python3"
  },
  "language_info": {
   "codemirror_mode": {
    "name": "ipython",
    "version": 3
   },
   "file_extension": ".py",
   "mimetype": "text/x-python",
   "name": "python",
   "nbconvert_exporter": "python",
   "pygments_lexer": "ipython3",
   "version": "3.7.6"
  },
  "orig_nbformat": 4
 },
 "nbformat": 4,
 "nbformat_minor": 2
}
