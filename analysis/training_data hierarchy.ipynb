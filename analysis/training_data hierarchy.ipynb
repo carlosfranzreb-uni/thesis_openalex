{
 "cells": [
  {
   "cell_type": "markdown",
   "metadata": {},
   "source": [
    "Analyse the documents that were retrieved from OpenAlex."
   ]
  },
  {
   "cell_type": "code",
   "execution_count": 1,
   "metadata": {},
   "outputs": [],
   "source": [
    "import json\n",
    "from os import listdir\n",
    "from collections import Counter\n",
    "from matplotlib import pyplot as plt"
   ]
  },
  {
   "cell_type": "code",
   "execution_count": 2,
   "metadata": {},
   "outputs": [],
   "source": [
    "docs_folder = '../data/openalex/docs_hierarchy'\n",
    "subjects_file = '../data/openalex/subjects.json'\n",
    "subjects = json.load(open(subjects_file))"
   ]
  },
  {
   "cell_type": "code",
   "execution_count": 3,
   "metadata": {},
   "outputs": [
    {
     "data": {
      "text/plain": [
       "2157"
      ]
     },
     "execution_count": 3,
     "metadata": {},
     "output_type": "execute_result"
    }
   ],
   "source": [
    "doc_cnt = {}  # map subjects to their number of docs\n",
    "for file in listdir(docs_folder):\n",
    "  docs = json.load(open(f'{docs_folder}/{file}'))\n",
    "  for subject in docs:\n",
    "    doc_cnt[subject] = len(docs[subject])\n",
    "len(doc_cnt)"
   ]
  },
  {
   "cell_type": "code",
   "execution_count": 4,
   "metadata": {},
   "outputs": [
    {
     "data": {
      "text/plain": [
       "214538"
      ]
     },
     "execution_count": 4,
     "metadata": {},
     "output_type": "execute_result"
    }
   ],
   "source": [
    "sum(doc_cnt.values())  # total no. of docs"
   ]
  },
  {
   "cell_type": "code",
   "execution_count": 5,
   "metadata": {},
   "outputs": [
    {
     "data": {
      "text/plain": [
       "17"
      ]
     },
     "execution_count": 5,
     "metadata": {},
     "output_type": "execute_result"
    }
   ],
   "source": [
    "missing_cnt = {}  # no. of subjects that don't have 100 docs\n",
    "for subject, cnt in doc_cnt.items():\n",
    "  if cnt != 100:\n",
    "    missing_cnt[subject] = cnt\n",
    "len(missing_cnt)"
   ]
  },
  {
   "cell_type": "code",
   "execution_count": 6,
   "metadata": {},
   "outputs": [
    {
     "name": "stdout",
     "output_type": "stream",
     "text": [
      "Fermentation 54\n",
      "Shoot 0\n",
      "Exploit 8\n",
      "Algorithm design 0\n",
      "Thin film 13\n",
      "Quantum dot 37\n",
      "Fly ash 19\n",
      "Central nervous system disease 45\n",
      "Journalism 98\n",
      "Attendance 29\n",
      "Gauge theory 67\n",
      "Letter to the editor 84\n",
      "Social system 63\n",
      "Seawater 19\n",
      "Premise 0\n",
      "Strengths and weaknesses 2\n",
      "Intensive care unit 0\n"
     ]
    }
   ],
   "source": [
    "for subject, cnt in missing_cnt.items():\n",
    "  print(subjects[subject]['name'], cnt)"
   ]
  },
  {
   "cell_type": "markdown",
   "metadata": {},
   "source": [
    "Are the subjects without their own documents present in other documents?"
   ]
  },
  {
   "cell_type": "code",
   "execution_count": 7,
   "metadata": {},
   "outputs": [
    {
     "name": "stdout",
     "output_type": "stream",
     "text": [
      "Shoot 325\n",
      "Algorithm design 0\n",
      "Premise 0\n",
      "Intensive care unit 374\n"
     ]
    }
   ],
   "source": [
    "empty = {subject: 0 for subject, cnt in missing_cnt.items() if cnt == 0}\n",
    "for file in listdir(docs_folder):\n",
    "  docs = json.load(open(f'{docs_folder}/{file}'))\n",
    "  for group in docs.values():\n",
    "    for doc in group:\n",
    "      for subject in doc['subjects']:\n",
    "        if subject in empty:\n",
    "          empty[subject] += 1\n",
    "for subject, cnt in empty.items():\n",
    "  print(subjects[subject]['name'], cnt)"
   ]
  },
  {
   "cell_type": "markdown",
   "metadata": {},
   "source": [
    "These were the docs retrieved for each document, not the total counts of occurrences of each subject, as each doc has multiple subjects, not only the one it was queried for. How often does each subject really occur?"
   ]
  },
  {
   "cell_type": "code",
   "execution_count": 8,
   "metadata": {},
   "outputs": [
    {
     "data": {
      "text/plain": [
       "2157"
      ]
     },
     "execution_count": 8,
     "metadata": {},
     "output_type": "execute_result"
    }
   ],
   "source": [
    "subject_cnt = {subject_id: 0 for subject_id in subjects}\n",
    "for file in listdir(docs_folder):\n",
    "  docs = json.load(open(f'{docs_folder}/{file}'))\n",
    "  for group in docs.values():\n",
    "    for doc in group:\n",
    "      for subject in doc['subjects'].keys():\n",
    "        if subject in subject_cnt:\n",
    "          subject_cnt[subject] += 1\n",
    "len(subject_cnt)"
   ]
  },
  {
   "cell_type": "code",
   "execution_count": 9,
   "metadata": {},
   "outputs": [
    {
     "data": {
      "text/plain": [
       "1890080"
      ]
     },
     "execution_count": 9,
     "metadata": {},
     "output_type": "execute_result"
    }
   ],
   "source": [
    "sum(subject_cnt.values())  # no. of subject assignments"
   ]
  },
  {
   "cell_type": "markdown",
   "metadata": {},
   "source": [
    "How many assignments does each field have?"
   ]
  },
  {
   "cell_type": "code",
   "execution_count": 10,
   "metadata": {},
   "outputs": [
    {
     "data": {
      "text/plain": [
       "19"
      ]
     },
     "execution_count": 10,
     "metadata": {},
     "output_type": "execute_result"
    }
   ],
   "source": [
    "field_distr = {s_id: 0 for s_id in subjects if subjects[s_id]['level'] == 0}\n",
    "for file in listdir(docs_folder):\n",
    "  docs = json.load(open(f'{docs_folder}/{file}'))\n",
    "  for group in docs.values():\n",
    "    for doc in group:\n",
    "      for subject in doc['subjects'].keys():\n",
    "        if subject in field_distr:\n",
    "          field_distr[subject] += 1\n",
    "len(field_distr)"
   ]
  },
  {
   "cell_type": "code",
   "execution_count": 11,
   "metadata": {},
   "outputs": [
    {
     "data": {
      "text/plain": [
       "899628"
      ]
     },
     "execution_count": 11,
     "metadata": {},
     "output_type": "execute_result"
    }
   ],
   "source": [
    "sum(field_distr.values())  # no. of times fields are assigned to docs"
   ]
  },
  {
   "cell_type": "code",
   "execution_count": 12,
   "metadata": {},
   "outputs": [
    {
     "data": {
      "image/png": "[encoded data removed]",
      "text/plain": [
       "<Figure size 864x360 with 1 Axes>"
      ]
     },
     "metadata": {
      "needs_background": "light"
     },
     "output_type": "display_data"
    },
    {
     "data": {
      "text/plain": [
       "dict_values([53500, 55416, 83825, 60799, 44812, 64148, 52717, 68239, 52878, 54580, 31815, 31584, 47105, 20265, 27491, 41879, 41827, 29674, 37074])"
      ]
     },
     "execution_count": 12,
     "metadata": {},
     "output_type": "execute_result"
    }
   ],
   "source": [
    "plt.figure(figsize=(12,5))\n",
    "x = range(len(field_distr))\n",
    "field_names = [subjects[s]['name'] for s in subjects if s in field_distr]\n",
    "field_names[field_names.index('Environmental science')] = 'Env. science'\n",
    "plt.bar(x, field_distr.values())\n",
    "plt.xticks(x, field_names, rotation=30)\n",
    "plt.xlabel('MAG field of study')\n",
    "plt.ylabel('No. of assignments')\n",
    "plt.show()\n",
    "field_distr.values()"
   ]
  },
  {
   "cell_type": "markdown",
   "metadata": {},
   "source": [
    "How many documents don't have a field assigned to them?"
   ]
  },
  {
   "cell_type": "code",
   "execution_count": 13,
   "metadata": {},
   "outputs": [
    {
     "data": {
      "text/plain": [
       "0"
      ]
     },
     "execution_count": 13,
     "metadata": {},
     "output_type": "execute_result"
    }
   ],
   "source": [
    "no_field = 0\n",
    "for file in listdir(docs_folder):\n",
    "  docs = json.load(open(f'{docs_folder}/{file}'))\n",
    "  for group in docs.values():\n",
    "    for doc in group:\n",
    "      has_field = False\n",
    "      for subject in doc['subjects'].keys():\n",
    "        if subject in subjects:\n",
    "          if subjects[subject]['level'] == 0:\n",
    "            has_field = True\n",
    "            break\n",
    "      if not has_field:\n",
    "        no_field += 1\n",
    "no_field"
   ]
  },
  {
   "cell_type": "markdown",
   "metadata": {},
   "source": [
    "Count the occurrence of subject sets of docs that don't have fields assigned to them"
   ]
  },
  {
   "cell_type": "code",
   "execution_count": 14,
   "metadata": {},
   "outputs": [
    {
     "data": {
      "text/plain": [
       "[]"
      ]
     },
     "execution_count": 14,
     "metadata": {},
     "output_type": "execute_result"
    }
   ],
   "source": [
    "nofield_cnt = Counter()\n",
    "for file in listdir(docs_folder):\n",
    "  docs = json.load(open(f'{docs_folder}/{file}'))\n",
    "  for group in docs.values():\n",
    "    for doc in group:\n",
    "      has_field = False\n",
    "      for subject in doc['subjects'].keys():\n",
    "        if subject in subjects:\n",
    "          if subjects[subject]['level'] == 0:\n",
    "            has_field = True\n",
    "            break\n",
    "      if not has_field:\n",
    "        s_names = [subjects[s]['name'] for s in subjects if s in doc['subjects'].keys()]\n",
    "        nofield_cnt[str(sorted(s_names))] += 1\n",
    "nofield_cnt.most_common(10)"
   ]
  },
  {
   "cell_type": "markdown",
   "metadata": {},
   "source": [
    "How many of the documents without assigned fields have Mechanics assigned to them?"
   ]
  },
  {
   "cell_type": "code",
   "execution_count": 15,
   "metadata": {},
   "outputs": [
    {
     "data": {
      "text/plain": [
       "0"
      ]
     },
     "execution_count": 15,
     "metadata": {},
     "output_type": "execute_result"
    }
   ],
   "source": [
    "mechanics_cnt = 0\n",
    "for assigned, cnt in nofield_cnt.items():\n",
    "  if \"'Mechanics'\" in assigned:\n",
    "    mechanics_cnt += cnt\n",
    "mechanics_cnt"
   ]
  },
  {
   "cell_type": "markdown",
   "metadata": {},
   "source": [
    "Basic stats"
   ]
  },
  {
   "cell_type": "code",
   "execution_count": 16,
   "metadata": {},
   "outputs": [
    {
     "ename": "ZeroDivisionError",
     "evalue": "division by zero",
     "output_type": "error",
     "traceback": [
      "\u001b[1;31m---------------------------------------------------------------------------\u001b[0m",
      "\u001b[1;31mZeroDivisionError\u001b[0m                         Traceback (most recent call last)",
      "\u001b[1;32m<ipython-input-16-c3184366eb62>\u001b[0m in \u001b[0;36m<module>\u001b[1;34m\u001b[0m\n\u001b[1;32m----> 1\u001b[1;33m \u001b[0msum\u001b[0m\u001b[1;33m(\u001b[0m\u001b[0mnofield_cnt\u001b[0m\u001b[1;33m.\u001b[0m\u001b[0mvalues\u001b[0m\u001b[1;33m(\u001b[0m\u001b[1;33m)\u001b[0m\u001b[1;33m)\u001b[0m \u001b[1;33m/\u001b[0m \u001b[0mlen\u001b[0m\u001b[1;33m(\u001b[0m\u001b[0mnofield_cnt\u001b[0m\u001b[1;33m)\u001b[0m  \u001b[1;31m# avg. no. of subjects per doc that does not have a field\u001b[0m\u001b[1;33m\u001b[0m\u001b[1;33m\u001b[0m\u001b[0m\n\u001b[0m",
      "\u001b[1;31mZeroDivisionError\u001b[0m: division by zero"
     ]
    }
   ],
   "source": [
    "sum(nofield_cnt.values()) / len(nofield_cnt)  # avg. no. of subjects per doc that does not have a field"
   ]
  },
  {
   "cell_type": "code",
   "execution_count": null,
   "metadata": {},
   "outputs": [
    {
     "data": {
      "text/plain": [
       "1362"
      ]
     },
     "execution_count": 39,
     "metadata": {},
     "output_type": "execute_result"
    }
   ],
   "source": [
    "sum([v == 1 for v in nofield_cnt.values()])  # no. of subject sets that occur only once (from those of docs that are not assigned fields)"
   ]
  },
  {
   "cell_type": "code",
   "execution_count": null,
   "metadata": {},
   "outputs": [
    {
     "data": {
      "text/plain": [
       "427"
      ]
     },
     "execution_count": 57,
     "metadata": {},
     "output_type": "execute_result"
    }
   ],
   "source": [
    "sum([',' not in k for k in nofield_cnt.keys()]) "
   ]
  },
  {
   "cell_type": "code",
   "execution_count": null,
   "metadata": {},
   "outputs": [
    {
     "data": {
      "text/plain": [
       "1582"
      ]
     },
     "execution_count": 58,
     "metadata": {},
     "output_type": "execute_result"
    }
   ],
   "source": [
    "len(nofield_cnt)"
   ]
  },
  {
   "cell_type": "markdown",
   "metadata": {},
   "source": [
    "How many assignments are there per level?"
   ]
  },
  {
   "cell_type": "code",
   "execution_count": null,
   "metadata": {},
   "outputs": [
    {
     "data": {
      "text/plain": [
       "{0: 301059, 1: 98661, 2: 633386, 3: 34058, 4: 1643, 5: 0}"
      ]
     },
     "execution_count": 40,
     "metadata": {},
     "output_type": "execute_result"
    }
   ],
   "source": [
    "level_distr = {lv: 0 for lv in range(6)}\n",
    "for file in listdir(docs_folder):\n",
    "  docs = json.load(open(f'{docs_folder}/{file}'))\n",
    "  for group in docs.values():\n",
    "    for doc in group:\n",
    "      for subject in doc['subjects'].keys():\n",
    "        if subject in subjects:\n",
    "          level_distr[subjects[subject]['level']] += 1\n",
    "level_distr"
   ]
  },
  {
   "cell_type": "code",
   "execution_count": null,
   "metadata": {},
   "outputs": [
    {
     "data": {
      "text/plain": [
       "6"
      ]
     },
     "execution_count": 41,
     "metadata": {},
     "output_type": "execute_result"
    }
   ],
   "source": [
    "len(level_distr)"
   ]
  },
  {
   "cell_type": "code",
   "execution_count": null,
   "metadata": {},
   "outputs": [
    {
     "data": {
      "image/png": "[encoded data removed]",
      "text/plain": [
       "<Figure size 432x288 with 1 Axes>"
      ]
     },
     "metadata": {
      "needs_background": "light"
     },
     "output_type": "display_data"
    }
   ],
   "source": [
    "plt.bar(level_distr.keys(), level_distr.values())\n",
    "plt.xticks(list(level_distr.keys()), list(range(1, len(level_distr)+1)))\n",
    "plt.xlabel('Level of the subject hierarchy')\n",
    "plt.ylabel('No. of assignments')\n",
    "plt.show()"
   ]
  },
  {
   "cell_type": "markdown",
   "metadata": {},
   "source": [
    "What are the most popular subjects?"
   ]
  },
  {
   "cell_type": "code",
   "execution_count": null,
   "metadata": {},
   "outputs": [
    {
     "name": "stdout",
     "output_type": "stream",
     "text": [
      "Medicine 36092\n",
      "Computer science 35344\n",
      "Materials science 33864\n",
      "Psychology 26985\n",
      "Chemistry 23515\n",
      "Business 22503\n",
      "Environmental science 21312\n",
      "Sociology 14532\n",
      "Biology 13525\n",
      "Political science 13449\n"
     ]
    }
   ],
   "source": [
    "sorted_cnt = dict(sorted(subject_cnt.items(), key=lambda i: i[1], reverse=True))\n",
    "sorted_names = {subjects[s]['name']: cnt for s, cnt in sorted_cnt.items()}\n",
    "show = 0\n",
    "for subject, cnt in sorted_names.items():\n",
    "  print(subject, cnt)\n",
    "  show += 1\n",
    "  if show == 10:\n",
    "    break"
   ]
  },
  {
   "cell_type": "code",
   "execution_count": null,
   "metadata": {},
   "outputs": [
    {
     "name": "stdout",
     "output_type": "stream",
     "text": [
      "Environmental science 21312\n",
      "Internal medicine 11424\n",
      "Chemical engineering 10632\n",
      "Composite material 9339\n",
      "Artificial intelligence 8248\n",
      "Mechanics 5507\n",
      "Mathematics education 5152\n",
      "Social psychology 4695\n",
      "Ecology 4593\n",
      "Optoelectronics 4574\n",
      "Soil water 4486\n"
     ]
    }
   ],
   "source": [
    "show = 0  # top 10 without fields\n",
    "for subject, cnt in sorted_names.items():\n",
    "  if subject not in field_names:\n",
    "    print(subject, cnt)\n",
    "    show += 1\n",
    "    if show == 11:\n",
    "      break"
   ]
  },
  {
   "cell_type": "markdown",
   "metadata": {},
   "source": [
    "Are there duplicates?"
   ]
  },
  {
   "cell_type": "code",
   "execution_count": null,
   "metadata": {},
   "outputs": [
    {
     "data": {
      "text/plain": [
       "[('[]', 122),\n",
       " (\"['meet', 'editorial', 'board', 'member']\", 16),\n",
       " (\"['appeal', 'editor-in-chief', 'abstract']\", 15),\n",
       " (\"['spin', 'crossover', 'cobalt', 'complex', 'co-based', 'complex', 'pypz', 'pyridine', 'pyrazole', 'deposit', 'investigate', 'scan', 'tunneling', 'microscopy', 'tridentate', 'coordination', 'sphere', 'molecule', 'aggregate', 'mainly', 'tetramers', 'individual', 'complex', 'tetramers', 'undergo', 'reversible', 'transition', 'state', 'characteristic', 'image', 'contrast', 'current', 'pass', 'neighbor', 'molecule', 'exhibit', 'bistability', 'molecule', 'stable', 'transition', 'rate', 'vary', 'linearly', 'tunnel', 'current', 'exhibit', 'intriguing', 'dependence', 'bias', 'voltage', 'polarity', 'interpret', 'state', 'spin', 'state', 'complex', 'image', 'contrast', 'orders-of-magnitude', 'variation', 'switching', 'yield', 'tentatively', 'understand', 'calculate', 'orbital', 'structure', 'spin', 'state', 'provide', 'insight', 'mechanism', 'electron-induced', 'excited', 'spin-state', 'trapping', 'eliesst']\",\n",
       "  3),\n",
       " (\"['pick', 'carbonate', 'kinetic', 'selectivity', 'encapsulation', 'anions', 'supramolecular', 'host', 'bind', 'inorganic', 'anion', 'fast', 'rate', 'select', 'proportion', 'thermodynamic', 'stability', 'correspond', 'anionìhost', 'complex', 'form', 'reversible', 'manner', 'study', 'describe', 'action', 'hexapodal', 'capsule', 'remarkable', 'ability', 'select', 'anion', 'base', 'large', 'span', 'rate', 'enter', 'host', 'thermodynamic', 'affinity', 'eighteen', 'anion', 'extend', 'order', 'magnitude', 'nmr', 'spectroscopy', 'capsule', 'retain', 'hour', 'presence', 'compete', 'anion', 'include', 'strong', 'binding', 'haso4', 'hpo4', 'observe', 'selection', 'result', 'possess', 'narrow', 'aperture', 'comparable', 'size', 'anion', 'slow', 'encapsulation', 'second', 'day', 'unorthodox', 'mode', 'action', 'set', 'stage', 'create', 'host', 'pick', 'anion', 'ability', 'access', 'host']\",\n",
       "  3)]"
      ]
     },
     "execution_count": 50,
     "metadata": {},
     "output_type": "execute_result"
    }
   ],
   "source": [
    "duplicate_cnt = Counter()\n",
    "for file in listdir(docs_folder):\n",
    "  docs = json.load(open(f'{docs_folder}/{file}'))\n",
    "  for group in docs.values():\n",
    "    for doc in group:\n",
    "      duplicate_cnt[str(doc['data'])] += 1\n",
    "duplicate_cnt.most_common(5)"
   ]
  },
  {
   "cell_type": "code",
   "execution_count": null,
   "metadata": {},
   "outputs": [
    {
     "data": {
      "text/plain": [
       "4849"
      ]
     },
     "execution_count": 54,
     "metadata": {},
     "output_type": "execute_result"
    }
   ],
   "source": [
    "summ = sum([v for v in duplicate_cnt.values() if v > 1])\n",
    "summ # total number of duplicates"
   ]
  },
  {
   "cell_type": "code",
   "execution_count": null,
   "metadata": {},
   "outputs": [
    {
     "data": {
      "text/plain": [
       "2346"
      ]
     },
     "execution_count": 55,
     "metadata": {},
     "output_type": "execute_result"
    }
   ],
   "source": [
    "lenn = len([v for v in duplicate_cnt.values() if v > 1])\n",
    "lenn# number of duplicated docs"
   ]
  },
  {
   "cell_type": "code",
   "execution_count": null,
   "metadata": {},
   "outputs": [
    {
     "data": {
      "text/plain": [
       "2.06692242114237"
      ]
     },
     "execution_count": 56,
     "metadata": {},
     "output_type": "execute_result"
    }
   ],
   "source": [
    "summ/lenn  # avg. number of duplicates per distinct doc"
   ]
  },
  {
   "cell_type": "markdown",
   "metadata": {},
   "source": [
    "How many distinct documents are there?"
   ]
  },
  {
   "cell_type": "code",
   "execution_count": null,
   "metadata": {},
   "outputs": [
    {
     "data": {
      "text/plain": [
       "212035"
      ]
     },
     "execution_count": 46,
     "metadata": {},
     "output_type": "execute_result"
    }
   ],
   "source": [
    "len(duplicate_cnt)"
   ]
  },
  {
   "cell_type": "code",
   "execution_count": null,
   "metadata": {},
   "outputs": [],
   "source": []
  }
 ],
 "metadata": {
  "interpreter": {
   "hash": "afec8bd1b97d7d536c9012edeeda7c68a0e99e84af90a3d324c5b7b0f06b2586"
  },
  "kernelspec": {
   "display_name": "Python 3.7.6 ('base')",
   "language": "python",
   "name": "python3"
  },
  "language_info": {
   "codemirror_mode": {
    "name": "ipython",
    "version": 3
   },
   "file_extension": ".py",
   "mimetype": "text/x-python",
   "name": "python",
   "nbconvert_exporter": "python",
   "pygments_lexer": "ipython3",
   "version": "3.7.6"
  },
  "orig_nbformat": 4
 },
 "nbformat": 4,
 "nbformat_minor": 2
}
